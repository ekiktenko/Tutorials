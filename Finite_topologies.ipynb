{
 "cells": [
  {
   "cell_type": "markdown",
   "metadata": {},
   "source": [
    "# Listing all topologies for a finite set"
   ]
  },
  {
   "cell_type": "markdown",
   "metadata": {},
   "source": [
    "Consider a a finte $n$-elements set \n",
    "$$X=\\{0,1,\\ldots,n-1\\}.$$\n",
    "We can encode a subset $S \\subset 2^X$ as a binary tuple (\"binary mask\") of length $n$: \n",
    "$$S\\simeq(b_0, b_1,\\ldots, b_n),\\quad b_i\\in\\{0,1\\},$$\n",
    "and $b_i=1$ whenever $i\\in S$.\n",
    "\n",
    "For three subsets $S^j\\simeq(b^j_i)_i$, $j=1,2,3$ we have\n",
    "\\begin{equation}\n",
    "    \\begin{aligned}\n",
    "    S^3 &= S^1 \\bigcap S^2 \\Leftrightarrow b^3_i=b_i^1 b_i^2,\\\\\n",
    "    S^3 &= S^1 \\bigcup S^2 \\Leftrightarrow b^3_i=b_i^1 + b_i^2 - b_i^1 b_i^2.\n",
    "    \\end{aligned}\n",
    "\\end{equation}\n",
    "\n",
    "A set of tuples $T\\in  2^{\\{0,1\\}^n}\\simeq 2^{2^X}$ can be considered as providing topology for $X$, whenever\n",
    "1. $(1,\\ldots,1)\\in T$ and  $(0,\\ldots,0)\\in T$ ($X$ and $\\emptyset$ are inside);\n",
    "2. For any $b^1, b^2\\in T$: $(b^1+b^2-b^1b^2)\\in T$ (this correponds to a union of any two subsets);\n",
    "3. For any $b^1, b^2\\in T$: $b^1b^2\\in T$ (this correponds to an intersection of any two subsets).\n",
    "\n",
    "All operations with tuples are considered in a \"point-wise\" fashion, like in Eq.(1). Note that the second point is valid due to finitness of $X$, otherwise one should consider arbitrary uniouns.\n",
    "\n",
    "Next, we make a code to list all the topologies for $n$-elements sets via a exhaustive check over all $2^{2^{n}}$ candidates."
   ]
  },
  {
   "cell_type": "code",
   "execution_count": 32,
   "metadata": {},
   "outputs": [],
   "source": [
    "def join_subsets(subset1: tuple, subset2: tuple) -> tuple:\n",
    "    \"\"\"Makes a union of two subsets represented as tuples\"\"\"\n",
    "    assert len(subset1) == len(subset2)\n",
    "    assert (\n",
    "        max(subset1) <= 1\n",
    "        and max(subset2) <= 1\n",
    "        and min(subset1) >= 0\n",
    "        and min(subset2) >= 0\n",
    "    )\n",
    "    set_rslt = []\n",
    "    for a, b in zip(subset1, subset2):\n",
    "        set_rslt.append(a + b - a * b)\n",
    "    return tuple(set_rslt)\n",
    "\n",
    "\n",
    "def intersect_subsets(subset1: tuple, subset2: tuple) -> tuple:\n",
    "    \"\"\"Makes an itersection of two subsets represented as tuples\"\"\"\n",
    "    assert len(subset1) == len(subset2)\n",
    "    assert (\n",
    "        max(subset1) <= 1\n",
    "        and max(subset2) <= 1\n",
    "        and min(subset1) >= 0\n",
    "        and min(subset2) >= 0\n",
    "    )\n",
    "    set_rslt = []\n",
    "    for a, b in zip(subset1, subset2):\n",
    "        set_rslt.append(a * b)\n",
    "    return tuple(set_rslt)\n",
    "\n",
    "\n",
    "def make_set_of_subsets_from_bin_mask(bin_mask: list, n: int) -> set:\n",
    "    \"\"\"Reconstructs a set of subsets (tuples) from a binary tuple of 2^n length for given n.\n",
    "    For example, for n=2, (1,0,0,1) is converted to the antidiscrete topology:\n",
    "    1 (0,0) empty set is inside\n",
    "    0 (0,1) {1} is not included\n",
    "    0 (1,0) {0} is not included\n",
    "    1 (1,1) full set {0,1} is inside\n",
    "    \"\"\"\n",
    "    assert len(bin_mask) == 2**n\n",
    "    set_of_subsets = set()\n",
    "    for ind in range(2**n):\n",
    "        if bin_mask[ind] == 1:\n",
    "            subset = tuple([int(dit) for dit in bin(ind)[2:].zfill(n)])\n",
    "            set_of_subsets.add(subset)\n",
    "    return set_of_subsets\n",
    "\n",
    "\n",
    "def make_bin_mask_from_int(ind: int, n: int) -> tuple[int]:\n",
    "    \"\"\"Prepares a 'binary mask' of length 2^n from an 'index' of this mask (from 0 to 2^(2^n)-1).\n",
    "    Goes as input for make_set_of_subsets_from_bin_mask(bin_mask, n)\n",
    "    Example: for n = 2\n",
    "    ind = 0 -> (0, 0, 0, 0)\n",
    "    ind = 1 -> (0, 0, 0, 1)\n",
    "    ind = 2 -> (0, 0, 1, 0)\n",
    "    ...\n",
    "    ind = 15 -> (1, 1, 1, 1)\n",
    "    \"\"\"\n",
    "    assert 0 <= ind < 2 ** (2**n)\n",
    "    bin_mask = tuple([int(dit) for dit in bin(ind)[2:].zfill(2**n)])\n",
    "    return bin_mask\n",
    "\n",
    "\n",
    "def convert_subset_to_familiar_form(subset: tuple) -> tuple:\n",
    "    \"\"\"Converts subset in the form of a binary tuple to a tuple with weight(sebset) elements\n",
    "    with particular elements.\n",
    "    Example: (1, 0, 1, 1, 0) is converted to frozenset {0, 2, 4}.\n",
    "    \"\"\"\n",
    "    assert max(subset) <= 1 and min(subset) >= 0\n",
    "    n = len(subset)\n",
    "    set_rslt = []\n",
    "    for i in range(n):\n",
    "        if subset[i] == 1:\n",
    "            set_rslt.append(i)\n",
    "    return frozenset(set_rslt)\n",
    "    #return tuple(set_rslt)\n",
    "\n",
    "\n",
    "def convert_set_of_subsets_to_familiar_topology(\n",
    "    set_of_subsets: set[tuple],\n",
    ") -> set[tuple]:\n",
    "    \"\"\"Converts sets-of-subsets in the form like {(0, 0, 0), (1, 1, 1)}\n",
    "    to a more readable form {(), (0, 1, 2)}\"\"\"\n",
    "    topology = set()\n",
    "    for subset in set_of_subsets:\n",
    "        topology.add(convert_subset_to_familiar_form(subset))\n",
    "    return topology"
   ]
  },
  {
   "cell_type": "code",
   "execution_count": 33,
   "metadata": {},
   "outputs": [
    {
     "name": "stdout",
     "output_type": "stream",
     "text": [
      "ind=10 for n=2 corresponds to a mask of a subset of set's subsets (1, 0, 1, 0)\n",
      "For a mask (1, 1, 0, 1)  and n=2 we have set-of-subsets: {(0, 1), (1, 1), (0, 0)}\n",
      "Subset encoded in (1, 1) is actually {0, 1}\n"
     ]
    }
   ],
   "source": [
    "# *** Playground ***\n",
    "n = 2\n",
    "ind = 10\n",
    "print(\n",
    "    f\"{ind=} for {n=} corresponds to a mask of a subset of set's subsets {make_bin_mask_from_int(ind, n)}\"\n",
    ")\n",
    "\n",
    "bin_mask = (1, 1, 0, 1)\n",
    "print(\n",
    "    f\"For a mask {bin_mask}  and {n=} we have set-of-subsets: {make_set_of_subsets_from_bin_mask(bin_mask, n=2)}\"\n",
    ")\n",
    "\n",
    "subset = (1, 1)\n",
    "print(\n",
    "    f\"Subset encoded in {subset} is actually {set(convert_subset_to_familiar_form(subset))}\"\n",
    ")"
   ]
  },
  {
   "cell_type": "code",
   "execution_count": 34,
   "metadata": {},
   "outputs": [],
   "source": [
    "def check_topolginess(set_of_subsets: set, n: int = 3, verbose: bool = False) -> bool:\n",
    "    \"\"\"Checks whether a given set-of-subsets provides a topology for given n\"\"\"\n",
    "    # Check that the whole set is in the set_of_subsets\n",
    "    if tuple([1] * n) not in set_of_subsets:\n",
    "        if verbose:\n",
    "            print(f\"ERROR: Full set {tuple([1] * n)} is not in the given set of subsets\")\n",
    "        return False\n",
    "\n",
    "    # Check that the empty set is in the set_of_subsets\n",
    "    if tuple([0] * n) not in set_of_subsets:\n",
    "        if verbose:\n",
    "            print(f\"ERROR: Empty set {tuple([1] * n)} is not in the given set of subsets\")\n",
    "        return False\n",
    "\n",
    "    for ind, subset1 in enumerate(set_of_subsets):\n",
    "        for ind, subset2 in list(enumerate(set_of_subsets))[ind + 1 :]:\n",
    "            # Check that union is in the set_of_subsets\n",
    "            if join_subsets(subset1, subset2) not in set_of_subsets:\n",
    "                if verbose:\n",
    "                    print(\n",
    "                        f\"ERROR:: Join of {subset1} and {subset2} is not in  the given set of subsets\"\n",
    "                    )\n",
    "                return False\n",
    "            # Check that intersection is in the set_of_subsets\n",
    "            if intersect_subsets(subset1, subset2) not in set_of_subsets:\n",
    "                if verbose:\n",
    "                    print(\n",
    "                        f\"ERROR: Intersection of {subset1} and {subset2} is not in  the given set of subsets\"\n",
    "                    )\n",
    "                return False\n",
    "    return True"
   ]
  },
  {
   "cell_type": "code",
   "execution_count": 35,
   "metadata": {},
   "outputs": [
    {
     "name": "stdout",
     "output_type": "stream",
     "text": [
      "True\n",
      "ERROR: Empty set (1, 1, 1) is not in the given set of subsets\n",
      "False\n"
     ]
    }
   ],
   "source": [
    "# *** Playground ***\n",
    "# Sanite check for the antidiscrete topology\n",
    "set_of_subsets = {(1, 1, 1), (0, 0, 0)}\n",
    "print(check_topolginess(set_of_subsets, 3))\n",
    "\n",
    "# Sanite check for some arbitrary set of subsets\n",
    "set_of_subsets = {(1, 1, 1), (0, 1, 0)}\n",
    "print(check_topolginess(set_of_subsets, 3, verbose=True))"
   ]
  },
  {
   "cell_type": "code",
   "execution_count": 36,
   "metadata": {},
   "outputs": [],
   "source": [
    "def print_topology(topology: set) -> None:\n",
    "    \"\"\"Printing topology in a pretty way\"\"\"\n",
    "    N = len(topology)\n",
    "    output = \"{\"\n",
    "    for i, subset in enumerate(topology):\n",
    "        subset_str = str(set(subset)) if len(subset) > 0 else '{}'\n",
    "        output += subset_str\n",
    "        if i < N - 1:\n",
    "            output += ', '\n",
    "        else:\n",
    "            output += '}'\n",
    "    print(output)"
   ]
  },
  {
   "cell_type": "code",
   "execution_count": 37,
   "metadata": {},
   "outputs": [
    {
     "name": "stdout",
     "output_type": "stream",
     "text": [
      "For n=2, 4 topologies in total\n",
      "Explicit list of all topologies for a set {0, 1}:\n",
      "{{}, {0, 1}}\n",
      "{{}, {0, 1}, {0}}\n",
      "{{}, {0, 1}, {1}}\n",
      "{{}, {0, 1}, {1}, {0}}\n"
     ]
    }
   ],
   "source": [
    "n = 2\n",
    "\n",
    "list_of_topologies = []\n",
    "for ind in range(2 ** (2**n)):\n",
    "    bin_mask = make_bin_mask_from_int(ind, n)\n",
    "    set_of_subsets = make_set_of_subsets_from_bin_mask(bin_mask, n=n)\n",
    "    if check_topolginess(set_of_subsets, n=n, verbose=False):\n",
    "        topology = convert_set_of_subsets_to_familiar_topology(set_of_subsets)\n",
    "        list_of_topologies.append(topology)\n",
    "print(f\"For {n=}, {len(list_of_topologies)} topologies in total\")\n",
    "print(f\"Explicit list of all topologies for a set {set(range(n))}:\")\n",
    "for topology in list_of_topologies:\n",
    "    print_topology(topology)"
   ]
  }
 ],
 "metadata": {
  "kernelspec": {
   "display_name": "qsvm-fian",
   "language": "python",
   "name": "python3"
  },
  "language_info": {
   "codemirror_mode": {
    "name": "ipython",
    "version": 3
   },
   "file_extension": ".py",
   "mimetype": "text/x-python",
   "name": "python",
   "nbconvert_exporter": "python",
   "pygments_lexer": "ipython3",
   "version": "3.12.9"
  }
 },
 "nbformat": 4,
 "nbformat_minor": 4
}
