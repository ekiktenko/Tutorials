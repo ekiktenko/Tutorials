{
 "cells": [
  {
   "cell_type": "markdown",
   "id": "a7c144e2",
   "metadata": {},
   "source": [
    "# Some examples in Topology"
   ]
  },
  {
   "cell_type": "markdown",
   "id": "ebff07cd",
   "metadata": {},
   "source": [
    "Here we condider some examples from topology that may provide additional insight (at least, they were helpful for the author :-))."
   ]
  },
  {
   "cell_type": "markdown",
   "id": "0c462b67",
   "metadata": {},
   "source": [
    "#### Continuous map that sends an open set to a non-open set\n",
    "\n",
    "Let $f(x)=x^2$. $f[(-1,1)]=[0,1)$."
   ]
  },
  {
   "cell_type": "markdown",
   "id": "5535522c",
   "metadata": {},
   "source": [
    "#### An image of the closure of a set is strictly contained in the closure of the image of that set under a continuous map: $f[{\\rm Cl}(A)]\\subsetneq {\\rm Cl}[f(A)]$\n",
    "\n",
    "\n",
    "Let $f(x)=e^{-x}$ and $A=(0,+\\infty)$. \n",
    "$f[{\\rm Cl}(A)]=(0,1]\\subset [0,1]={\\rm Cl}[f(A)]$."
   ]
  },
  {
   "cell_type": "markdown",
   "id": "88f3dc5e",
   "metadata": {},
   "source": [
    "#### Factorial map that is not open\n",
    "\n",
    "Let $X=[0,1]\\subset \\mathbb{R}$ and let $x\\sim y$, whenever $x=y$ or $\\{x,y\\}=\\{0,1\\}$ (0 and 1 glued together). Then $X/\\sim$ is homeomorphic to a circle $S^1$. The corresponding factorial map $f: X\\rightarrow S^1$ is not open: The image of an open subset $[0,0.1)\\subset X$ is half-open interval in $S^1$, which is not open in the standard topology of $S^1$.\n"
   ]
  },
  {
   "cell_type": "markdown",
   "id": "e9b59155",
   "metadata": {},
   "source": [
    "#### Discontinuous open map\n",
    "\n",
    "Let $X=\\{a,b,c\\}$, $T_X=\\{X,\\{\\emptyset\\},\\{a\\}\\}$, $Y=\\{0,1\\}$ and $f:X\\rightarrow Y$ acts as\n",
    "$$\n",
    "    f(x) = \\begin{cases}\n",
    "        0,\\quad x=a,b\\\\\n",
    "        1,\\quad x=c\n",
    "    \\end{cases}.\n",
    "$$\n",
    "Consider the topology $T_Y=\\{f(U)\\subset Y: U\\in T_X\\}=\\{Y, \\{\\emptyset\\}, \\{0\\}\\}$.\n",
    "By construction, $f$ is open on $(X, T_X)$ and $(Y, T_Y)$. \n",
    "However, it is not continuous, since  $f^{-1}(\\{0\\})=\\{a,b\\}\\not\\in T_X$.\n",
    "\n",
    "**Remark:** Considering a \"factor-topology\" on $Y$ induced by $f$ results in anti-discrete $T_Y^{\\rm fact}=\\{Y, \\{\\emptyset\\}\\}$.\n",
    "Within $(X, T_X)$ and $(Y, T_Y^{\\rm fact})$, $f$ appears to be factroial (and thus continious) by not being open, since $f(\\{a\\})=\\{0\\}\\notin T_Y^{\\rm fact}$."
   ]
  },
  {
   "cell_type": "markdown",
   "id": "370b90f3",
   "metadata": {},
   "source": []
  }
 ],
 "metadata": {
  "language_info": {
   "name": "python"
  }
 },
 "nbformat": 4,
 "nbformat_minor": 5
}
